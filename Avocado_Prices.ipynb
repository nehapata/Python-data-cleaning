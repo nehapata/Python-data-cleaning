{
 "cells": [
  {
   "cell_type": "markdown",
   "id": "bdc6e381-f332-431a-8c08-0246d0f8dac5",
   "metadata": {},
   "source": [
    "# Data Cleaning in Python"
   ]
  },
  {
   "cell_type": "code",
   "execution_count": 5,
   "id": "acd1768a-50f4-49cf-a849-15e03215d00a",
   "metadata": {},
   "outputs": [],
   "source": [
    "# import libraries and packages\n",
    "\n",
    "import numpy as np\n",
    "import pandas as pd\n",
    "import datetime as dt\n",
    "import matplotlib.pyplot as plt\n",
    "import seaborn as sns"
   ]
  },
  {
   "cell_type": "code",
   "execution_count": 6,
   "id": "79d9d8b2-f5de-4c04-9c24-ca8d225df26b",
   "metadata": {},
   "outputs": [],
   "source": [
    "# Load dataset \n",
    "\n",
    "data = pd.read_csv(\"C:/Users/nisha/Desktop/Data Science/avocado.csv\", encoding = 'latin-1')"
   ]
  },
  {
   "cell_type": "code",
   "execution_count": 4,
   "id": "d149fa41-8e7a-437a-bcc4-bf1da56a6d17",
   "metadata": {},
   "outputs": [
    {
     "data": {
      "text/html": [
       "<div>\n",
       "<style scoped>\n",
       "    .dataframe tbody tr th:only-of-type {\n",
       "        vertical-align: middle;\n",
       "    }\n",
       "\n",
       "    .dataframe tbody tr th {\n",
       "        vertical-align: top;\n",
       "    }\n",
       "\n",
       "    .dataframe thead th {\n",
       "        text-align: right;\n",
       "    }\n",
       "</style>\n",
       "<table border=\"1\" class=\"dataframe\">\n",
       "  <thead>\n",
       "    <tr style=\"text-align: right;\">\n",
       "      <th></th>\n",
       "      <th>Unnamed: 0</th>\n",
       "      <th>Date</th>\n",
       "      <th>AveragePrice</th>\n",
       "      <th>Total Volume</th>\n",
       "      <th>4046</th>\n",
       "      <th>4225</th>\n",
       "      <th>4770</th>\n",
       "      <th>Total Bags</th>\n",
       "      <th>Small Bags</th>\n",
       "      <th>Large Bags</th>\n",
       "      <th>XLarge Bags</th>\n",
       "      <th>type</th>\n",
       "      <th>year</th>\n",
       "      <th>region</th>\n",
       "    </tr>\n",
       "  </thead>\n",
       "  <tbody>\n",
       "    <tr>\n",
       "      <th>0</th>\n",
       "      <td>0</td>\n",
       "      <td>2015-12-27</td>\n",
       "      <td>1.33</td>\n",
       "      <td>64236.62</td>\n",
       "      <td>1036.74</td>\n",
       "      <td>54454.85</td>\n",
       "      <td>48.16</td>\n",
       "      <td>8696.87</td>\n",
       "      <td>8603.62</td>\n",
       "      <td>93.25</td>\n",
       "      <td>0.0</td>\n",
       "      <td>conventional</td>\n",
       "      <td>2015</td>\n",
       "      <td>Albany</td>\n",
       "    </tr>\n",
       "    <tr>\n",
       "      <th>1</th>\n",
       "      <td>1</td>\n",
       "      <td>2015-12-20</td>\n",
       "      <td>1.35</td>\n",
       "      <td>54876.98</td>\n",
       "      <td>674.28</td>\n",
       "      <td>44638.81</td>\n",
       "      <td>58.33</td>\n",
       "      <td>9505.56</td>\n",
       "      <td>9408.07</td>\n",
       "      <td>97.49</td>\n",
       "      <td>0.0</td>\n",
       "      <td>conventional</td>\n",
       "      <td>2015</td>\n",
       "      <td>Albany</td>\n",
       "    </tr>\n",
       "    <tr>\n",
       "      <th>2</th>\n",
       "      <td>2</td>\n",
       "      <td>2015-12-13</td>\n",
       "      <td>0.93</td>\n",
       "      <td>118220.22</td>\n",
       "      <td>794.70</td>\n",
       "      <td>109149.67</td>\n",
       "      <td>130.50</td>\n",
       "      <td>8145.35</td>\n",
       "      <td>8042.21</td>\n",
       "      <td>103.14</td>\n",
       "      <td>0.0</td>\n",
       "      <td>conventional</td>\n",
       "      <td>2015</td>\n",
       "      <td>Albany</td>\n",
       "    </tr>\n",
       "    <tr>\n",
       "      <th>3</th>\n",
       "      <td>3</td>\n",
       "      <td>2015-12-06</td>\n",
       "      <td>1.08</td>\n",
       "      <td>78992.15</td>\n",
       "      <td>1132.00</td>\n",
       "      <td>71976.41</td>\n",
       "      <td>72.58</td>\n",
       "      <td>5811.16</td>\n",
       "      <td>5677.40</td>\n",
       "      <td>133.76</td>\n",
       "      <td>0.0</td>\n",
       "      <td>conventional</td>\n",
       "      <td>2015</td>\n",
       "      <td>Albany</td>\n",
       "    </tr>\n",
       "    <tr>\n",
       "      <th>4</th>\n",
       "      <td>4</td>\n",
       "      <td>2015-11-29</td>\n",
       "      <td>1.28</td>\n",
       "      <td>51039.60</td>\n",
       "      <td>941.48</td>\n",
       "      <td>43838.39</td>\n",
       "      <td>75.78</td>\n",
       "      <td>6183.95</td>\n",
       "      <td>5986.26</td>\n",
       "      <td>197.69</td>\n",
       "      <td>0.0</td>\n",
       "      <td>conventional</td>\n",
       "      <td>2015</td>\n",
       "      <td>Albany</td>\n",
       "    </tr>\n",
       "  </tbody>\n",
       "</table>\n",
       "</div>"
      ],
      "text/plain": [
       "   Unnamed: 0        Date  AveragePrice  Total Volume     4046       4225  \\\n",
       "0           0  2015-12-27          1.33      64236.62  1036.74   54454.85   \n",
       "1           1  2015-12-20          1.35      54876.98   674.28   44638.81   \n",
       "2           2  2015-12-13          0.93     118220.22   794.70  109149.67   \n",
       "3           3  2015-12-06          1.08      78992.15  1132.00   71976.41   \n",
       "4           4  2015-11-29          1.28      51039.60   941.48   43838.39   \n",
       "\n",
       "     4770  Total Bags  Small Bags  Large Bags  XLarge Bags          type  \\\n",
       "0   48.16     8696.87     8603.62       93.25          0.0  conventional   \n",
       "1   58.33     9505.56     9408.07       97.49          0.0  conventional   \n",
       "2  130.50     8145.35     8042.21      103.14          0.0  conventional   \n",
       "3   72.58     5811.16     5677.40      133.76          0.0  conventional   \n",
       "4   75.78     6183.95     5986.26      197.69          0.0  conventional   \n",
       "\n",
       "   year  region  \n",
       "0  2015  Albany  \n",
       "1  2015  Albany  \n",
       "2  2015  Albany  \n",
       "3  2015  Albany  \n",
       "4  2015  Albany  "
      ]
     },
     "execution_count": 4,
     "metadata": {},
     "output_type": "execute_result"
    }
   ],
   "source": [
    "# Understand structure of data by looking at first few rows\n",
    "\n",
    "data.head()"
   ]
  },
  {
   "cell_type": "code",
   "execution_count": 5,
   "id": "397965ba-a3fc-489b-9a2d-9337f6adabae",
   "metadata": {},
   "outputs": [
    {
     "data": {
      "text/plain": [
       "(18249, 14)"
      ]
     },
     "execution_count": 5,
     "metadata": {},
     "output_type": "execute_result"
    }
   ],
   "source": [
    "# How many rows and columns are there?\n",
    "\n",
    "data.shape"
   ]
  },
  {
   "cell_type": "markdown",
   "id": "38a9e53a-d511-4fb5-a3f5-3b8a0e5c1fee",
   "metadata": {},
   "source": [
    "Dataset has total 18249 rows and 14 columns."
   ]
  },
  {
   "cell_type": "markdown",
   "id": "c5d244ec-450b-4f51-855b-5a66062075f3",
   "metadata": {},
   "source": [
    "### Columns in Dataset"
   ]
  },
  {
   "cell_type": "markdown",
   "id": "23323874-6b33-45e7-ad6e-e71f8190cf5e",
   "metadata": {},
   "source": [
    "unnamed0: just the index"
   ]
  },
  {
   "cell_type": "markdown",
   "id": "2cb5b54b-4669-454f-8fe3-d473ec3bbf54",
   "metadata": {},
   "source": [
    "Date: Date"
   ]
  },
  {
   "cell_type": "markdown",
   "id": "3de69d4d-d9ea-4fec-9e5f-0260d76c81d1",
   "metadata": {},
   "source": [
    "AveragePrice: the average price of a single avocado"
   ]
  },
  {
   "cell_type": "markdown",
   "id": "9a8a73c1-a0f6-433b-907e-9d2cdfb90079",
   "metadata": {},
   "source": [
    "Total Volume: Total number of avocados sold"
   ]
  },
  {
   "cell_type": "markdown",
   "id": "05af8817-b505-4053-af47-fa7c53655739",
   "metadata": {},
   "source": [
    "4046: Total number of avocados with PLU 4046(small/medium hass avocado) sold"
   ]
  },
  {
   "cell_type": "markdown",
   "id": "b65859b3-ea5d-49e7-b475-de526a2d5c73",
   "metadata": {},
   "source": [
    "4225: Total number of avocados with PLU 4225(Large hass avocado) sold"
   ]
  },
  {
   "cell_type": "markdown",
   "id": "895c47bb-49f0-4aa2-8c99-71fdeb755aed",
   "metadata": {},
   "source": [
    "4770: Total number of avocados with PLU 4770(extra large hass avocado) sold"
   ]
  },
  {
   "cell_type": "markdown",
   "id": "8eb5c21c-6bf7-4685-ac8e-3997c1339e04",
   "metadata": {},
   "source": [
    "Total Bags: Total number of bags of avocados sold "
   ]
  },
  {
   "cell_type": "markdown",
   "id": "04885d1e-dfe1-4fa1-84a1-108ab9935805",
   "metadata": {},
   "source": [
    "Small Bags: Total number of small bags of avocados sold"
   ]
  },
  {
   "cell_type": "markdown",
   "id": "a5718d6a-cdce-4522-b730-9777517dda8f",
   "metadata": {},
   "source": [
    "Large Bags: Total number of Large bags of avocados sold "
   ]
  },
  {
   "cell_type": "markdown",
   "id": "16c20fbc-2574-4ee0-a631-f9a5d1031648",
   "metadata": {},
   "source": [
    "type: conventional or organic"
   ]
  },
  {
   "cell_type": "markdown",
   "id": "2df21558-dcd3-448f-95d9-c850dc96193e",
   "metadata": {},
   "source": [
    "XLarge Bags: Total number of XLarge bags of avocados sold"
   ]
  },
  {
   "cell_type": "code",
   "execution_count": null,
   "id": "26bcab69-8643-4e74-96d2-03ec589bc40a",
   "metadata": {},
   "outputs": [],
   "source": [
    "year: year"
   ]
  },
  {
   "cell_type": "markdown",
   "id": "219a34c6-8490-4818-a919-dd67376d1872",
   "metadata": {},
   "source": [
    "region: the city or region of the observation"
   ]
  },
  {
   "cell_type": "code",
   "execution_count": 7,
   "id": "d76c0824-31f9-4139-b8cf-d080495ab998",
   "metadata": {},
   "outputs": [
    {
     "name": "stdout",
     "output_type": "stream",
     "text": [
      "<class 'pandas.core.frame.DataFrame'>\n",
      "RangeIndex: 18249 entries, 0 to 18248\n",
      "Data columns (total 14 columns):\n",
      " #   Column        Non-Null Count  Dtype  \n",
      "---  ------        --------------  -----  \n",
      " 0   Unnamed: 0    18249 non-null  int64  \n",
      " 1   Date          18249 non-null  object \n",
      " 2   AveragePrice  18249 non-null  float64\n",
      " 3   Total Volume  18249 non-null  float64\n",
      " 4   4046          18249 non-null  float64\n",
      " 5   4225          18249 non-null  float64\n",
      " 6   4770          18249 non-null  float64\n",
      " 7   Total Bags    18249 non-null  float64\n",
      " 8   Small Bags    18249 non-null  float64\n",
      " 9   Large Bags    18249 non-null  float64\n",
      " 10  XLarge Bags   18249 non-null  float64\n",
      " 11  type          18249 non-null  object \n",
      " 12  year          18249 non-null  int64  \n",
      " 13  region        18249 non-null  object \n",
      "dtypes: float64(9), int64(2), object(3)\n",
      "memory usage: 1.9+ MB\n"
     ]
    }
   ],
   "source": [
    "# check missing values and data types\n",
    "\n",
    "data.info()"
   ]
  },
  {
   "cell_type": "markdown",
   "id": "951f1b69-3db5-419b-bcac-6932a12ddfab",
   "metadata": {},
   "source": []
  },
  {
   "cell_type": "code",
   "execution_count": null,
   "id": "ba13f4b8-9b1e-4cae-852d-1576061655dd",
   "metadata": {},
   "outputs": [],
   "source": [
    "There are no missing values "
   ]
  },
  {
   "cell_type": "markdown",
   "id": "88c9cc15-1b6a-4e1c-85d4-51a63cd17eb7",
   "metadata": {},
   "source": [
    "Date, type and region are object. Unnamed and year are int64. Rest of the columns are float64. "
   ]
  },
  {
   "cell_type": "code",
   "execution_count": 7,
   "id": "26b2105d-3d3c-49f2-a24c-2e95dff18928",
   "metadata": {},
   "outputs": [],
   "source": [
    "# change column names\n",
    "# changing names of PLU no. to actual size of avocado\n",
    "\n",
    "data = data.rename(columns={'4046' : 'small/medium', '4225' : 'large', '4770' : 'extra large'})"
   ]
  },
  {
   "cell_type": "code",
   "execution_count": 8,
   "id": "a00d661b-6cb0-46dd-8ae1-d55c73cb519f",
   "metadata": {},
   "outputs": [
    {
     "data": {
      "text/plain": [
       "Index(['Unnamed: 0', 'Date', 'AveragePrice', 'Total Volume', 'small/medium',\n",
       "       'large', 'extra large', 'Total Bags', 'Small Bags', 'Large Bags',\n",
       "       'XLarge Bags', 'type', 'year', 'region'],\n",
       "      dtype='object')"
      ]
     },
     "execution_count": 8,
     "metadata": {},
     "output_type": "execute_result"
    }
   ],
   "source": [
    "data.columns"
   ]
  },
  {
   "cell_type": "markdown",
   "id": "f6a590dd-d019-43d8-a0f0-10e9ef7e91d0",
   "metadata": {},
   "source": [
    "Column names are not uniform meaning some starts with lower case and some with upper cases. For uniformity changing all column names to lower cases"
   ]
  },
  {
   "cell_type": "code",
   "execution_count": 9,
   "id": "b9b85a21-b343-41d1-ba77-8a6296f06ca3",
   "metadata": {},
   "outputs": [
    {
     "data": {
      "text/plain": [
       "Index(['unnamed: 0', 'date', 'averageprice', 'total volume', 'small/medium',\n",
       "       'large', 'extra large', 'total bags', 'small bags', 'large bags',\n",
       "       'xlarge bags', 'type', 'year', 'region'],\n",
       "      dtype='object')"
      ]
     },
     "execution_count": 9,
     "metadata": {},
     "output_type": "execute_result"
    }
   ],
   "source": [
    "# column names to lower case\n",
    "\n",
    "data.columns = data.columns.str.lower()\n",
    "data.columns"
   ]
  },
  {
   "cell_type": "code",
   "execution_count": 10,
   "id": "f3c80660-37fa-42df-a65d-644fd6103320",
   "metadata": {},
   "outputs": [
    {
     "data": {
      "text/plain": [
       "Index(['unnamed: 0', 'date', 'average price', 'total volume', 'small/medium',\n",
       "       'large', 'extra large', 'total bags', 'small bags', 'large bags',\n",
       "       'xlarge bags', 'type', 'year', 'region'],\n",
       "      dtype='object')"
      ]
     },
     "execution_count": 10,
     "metadata": {},
     "output_type": "execute_result"
    }
   ],
   "source": [
    "# correcting column name averageprice to average price\n",
    "\n",
    "data = data.rename(columns={'averageprice' : 'average price'})\n",
    "data.columns"
   ]
  },
  {
   "cell_type": "code",
   "execution_count": 11,
   "id": "8d439825-8db7-4c05-b3b5-4d0bf1c3714d",
   "metadata": {},
   "outputs": [
    {
     "data": {
      "text/html": [
       "<div>\n",
       "<style scoped>\n",
       "    .dataframe tbody tr th:only-of-type {\n",
       "        vertical-align: middle;\n",
       "    }\n",
       "\n",
       "    .dataframe tbody tr th {\n",
       "        vertical-align: top;\n",
       "    }\n",
       "\n",
       "    .dataframe thead th {\n",
       "        text-align: right;\n",
       "    }\n",
       "</style>\n",
       "<table border=\"1\" class=\"dataframe\">\n",
       "  <thead>\n",
       "    <tr style=\"text-align: right;\">\n",
       "      <th></th>\n",
       "      <th>date</th>\n",
       "      <th>average price</th>\n",
       "      <th>total volume</th>\n",
       "      <th>small/medium</th>\n",
       "      <th>large</th>\n",
       "      <th>extra large</th>\n",
       "      <th>total bags</th>\n",
       "      <th>small bags</th>\n",
       "      <th>large bags</th>\n",
       "      <th>xlarge bags</th>\n",
       "      <th>type</th>\n",
       "      <th>year</th>\n",
       "      <th>region</th>\n",
       "    </tr>\n",
       "  </thead>\n",
       "  <tbody>\n",
       "    <tr>\n",
       "      <th>0</th>\n",
       "      <td>2015-12-27</td>\n",
       "      <td>1.33</td>\n",
       "      <td>64236.62</td>\n",
       "      <td>1036.74</td>\n",
       "      <td>54454.85</td>\n",
       "      <td>48.16</td>\n",
       "      <td>8696.87</td>\n",
       "      <td>8603.62</td>\n",
       "      <td>93.25</td>\n",
       "      <td>0.0</td>\n",
       "      <td>conventional</td>\n",
       "      <td>2015</td>\n",
       "      <td>Albany</td>\n",
       "    </tr>\n",
       "    <tr>\n",
       "      <th>1</th>\n",
       "      <td>2015-12-20</td>\n",
       "      <td>1.35</td>\n",
       "      <td>54876.98</td>\n",
       "      <td>674.28</td>\n",
       "      <td>44638.81</td>\n",
       "      <td>58.33</td>\n",
       "      <td>9505.56</td>\n",
       "      <td>9408.07</td>\n",
       "      <td>97.49</td>\n",
       "      <td>0.0</td>\n",
       "      <td>conventional</td>\n",
       "      <td>2015</td>\n",
       "      <td>Albany</td>\n",
       "    </tr>\n",
       "    <tr>\n",
       "      <th>2</th>\n",
       "      <td>2015-12-13</td>\n",
       "      <td>0.93</td>\n",
       "      <td>118220.22</td>\n",
       "      <td>794.70</td>\n",
       "      <td>109149.67</td>\n",
       "      <td>130.50</td>\n",
       "      <td>8145.35</td>\n",
       "      <td>8042.21</td>\n",
       "      <td>103.14</td>\n",
       "      <td>0.0</td>\n",
       "      <td>conventional</td>\n",
       "      <td>2015</td>\n",
       "      <td>Albany</td>\n",
       "    </tr>\n",
       "    <tr>\n",
       "      <th>3</th>\n",
       "      <td>2015-12-06</td>\n",
       "      <td>1.08</td>\n",
       "      <td>78992.15</td>\n",
       "      <td>1132.00</td>\n",
       "      <td>71976.41</td>\n",
       "      <td>72.58</td>\n",
       "      <td>5811.16</td>\n",
       "      <td>5677.40</td>\n",
       "      <td>133.76</td>\n",
       "      <td>0.0</td>\n",
       "      <td>conventional</td>\n",
       "      <td>2015</td>\n",
       "      <td>Albany</td>\n",
       "    </tr>\n",
       "    <tr>\n",
       "      <th>4</th>\n",
       "      <td>2015-11-29</td>\n",
       "      <td>1.28</td>\n",
       "      <td>51039.60</td>\n",
       "      <td>941.48</td>\n",
       "      <td>43838.39</td>\n",
       "      <td>75.78</td>\n",
       "      <td>6183.95</td>\n",
       "      <td>5986.26</td>\n",
       "      <td>197.69</td>\n",
       "      <td>0.0</td>\n",
       "      <td>conventional</td>\n",
       "      <td>2015</td>\n",
       "      <td>Albany</td>\n",
       "    </tr>\n",
       "  </tbody>\n",
       "</table>\n",
       "</div>"
      ],
      "text/plain": [
       "         date  average price  total volume  small/medium      large  \\\n",
       "0  2015-12-27           1.33      64236.62       1036.74   54454.85   \n",
       "1  2015-12-20           1.35      54876.98        674.28   44638.81   \n",
       "2  2015-12-13           0.93     118220.22        794.70  109149.67   \n",
       "3  2015-12-06           1.08      78992.15       1132.00   71976.41   \n",
       "4  2015-11-29           1.28      51039.60        941.48   43838.39   \n",
       "\n",
       "   extra large  total bags  small bags  large bags  xlarge bags          type  \\\n",
       "0        48.16     8696.87     8603.62       93.25          0.0  conventional   \n",
       "1        58.33     9505.56     9408.07       97.49          0.0  conventional   \n",
       "2       130.50     8145.35     8042.21      103.14          0.0  conventional   \n",
       "3        72.58     5811.16     5677.40      133.76          0.0  conventional   \n",
       "4        75.78     6183.95     5986.26      197.69          0.0  conventional   \n",
       "\n",
       "   year  region  \n",
       "0  2015  Albany  \n",
       "1  2015  Albany  \n",
       "2  2015  Albany  \n",
       "3  2015  Albany  \n",
       "4  2015  Albany  "
      ]
     },
     "execution_count": 11,
     "metadata": {},
     "output_type": "execute_result"
    }
   ],
   "source": [
    "# drop column \n",
    "\n",
    "data = data.drop(columns=['unnamed: 0'])\n",
    "data.head()"
   ]
  },
  {
   "cell_type": "code",
   "execution_count": 12,
   "id": "d04fde20-6f18-4205-bbd3-253d430373f3",
   "metadata": {},
   "outputs": [
    {
     "data": {
      "text/plain": [
       "(18249, 13)"
      ]
     },
     "execution_count": 12,
     "metadata": {},
     "output_type": "execute_result"
    }
   ],
   "source": [
    "# Checking for duplicates\n",
    "\n",
    "data.shape"
   ]
  },
  {
   "cell_type": "code",
   "execution_count": 13,
   "id": "bf196993-60da-4e7a-9580-62dbd6ef3ab6",
   "metadata": {},
   "outputs": [
    {
     "data": {
      "text/plain": [
       "(18249, 13)"
      ]
     },
     "execution_count": 13,
     "metadata": {},
     "output_type": "execute_result"
    }
   ],
   "source": [
    "data.drop_duplicates().shape"
   ]
  },
  {
   "cell_type": "markdown",
   "id": "ded0e755-9c1e-42c3-89ac-81013a8283cc",
   "metadata": {},
   "source": [
    "since shape of data after dropping duplicates is same as shape of original data, there are no duplicates."
   ]
  },
  {
   "cell_type": "code",
   "execution_count": 14,
   "id": "c9387603-6a99-4d80-b0ba-d02edb37c4bc",
   "metadata": {},
   "outputs": [
    {
     "data": {
      "text/html": [
       "<div>\n",
       "<style scoped>\n",
       "    .dataframe tbody tr th:only-of-type {\n",
       "        vertical-align: middle;\n",
       "    }\n",
       "\n",
       "    .dataframe tbody tr th {\n",
       "        vertical-align: top;\n",
       "    }\n",
       "\n",
       "    .dataframe thead th {\n",
       "        text-align: right;\n",
       "    }\n",
       "</style>\n",
       "<table border=\"1\" class=\"dataframe\">\n",
       "  <thead>\n",
       "    <tr style=\"text-align: right;\">\n",
       "      <th></th>\n",
       "      <th>average price</th>\n",
       "      <th>total volume</th>\n",
       "      <th>small/medium</th>\n",
       "      <th>large</th>\n",
       "      <th>extra large</th>\n",
       "      <th>total bags</th>\n",
       "      <th>small bags</th>\n",
       "      <th>large bags</th>\n",
       "      <th>xlarge bags</th>\n",
       "      <th>year</th>\n",
       "    </tr>\n",
       "  </thead>\n",
       "  <tbody>\n",
       "    <tr>\n",
       "      <th>count</th>\n",
       "      <td>18249.000000</td>\n",
       "      <td>1.824900e+04</td>\n",
       "      <td>1.824900e+04</td>\n",
       "      <td>1.824900e+04</td>\n",
       "      <td>1.824900e+04</td>\n",
       "      <td>1.824900e+04</td>\n",
       "      <td>1.824900e+04</td>\n",
       "      <td>1.824900e+04</td>\n",
       "      <td>18249.000000</td>\n",
       "      <td>18249.000000</td>\n",
       "    </tr>\n",
       "    <tr>\n",
       "      <th>mean</th>\n",
       "      <td>1.405978</td>\n",
       "      <td>8.506440e+05</td>\n",
       "      <td>2.930084e+05</td>\n",
       "      <td>2.951546e+05</td>\n",
       "      <td>2.283974e+04</td>\n",
       "      <td>2.396392e+05</td>\n",
       "      <td>1.821947e+05</td>\n",
       "      <td>5.433809e+04</td>\n",
       "      <td>3106.426507</td>\n",
       "      <td>2016.147899</td>\n",
       "    </tr>\n",
       "    <tr>\n",
       "      <th>std</th>\n",
       "      <td>0.402677</td>\n",
       "      <td>3.453545e+06</td>\n",
       "      <td>1.264989e+06</td>\n",
       "      <td>1.204120e+06</td>\n",
       "      <td>1.074641e+05</td>\n",
       "      <td>9.862424e+05</td>\n",
       "      <td>7.461785e+05</td>\n",
       "      <td>2.439660e+05</td>\n",
       "      <td>17692.894652</td>\n",
       "      <td>0.939938</td>\n",
       "    </tr>\n",
       "    <tr>\n",
       "      <th>min</th>\n",
       "      <td>0.440000</td>\n",
       "      <td>8.456000e+01</td>\n",
       "      <td>0.000000e+00</td>\n",
       "      <td>0.000000e+00</td>\n",
       "      <td>0.000000e+00</td>\n",
       "      <td>0.000000e+00</td>\n",
       "      <td>0.000000e+00</td>\n",
       "      <td>0.000000e+00</td>\n",
       "      <td>0.000000</td>\n",
       "      <td>2015.000000</td>\n",
       "    </tr>\n",
       "    <tr>\n",
       "      <th>25%</th>\n",
       "      <td>1.100000</td>\n",
       "      <td>1.083858e+04</td>\n",
       "      <td>8.540700e+02</td>\n",
       "      <td>3.008780e+03</td>\n",
       "      <td>0.000000e+00</td>\n",
       "      <td>5.088640e+03</td>\n",
       "      <td>2.849420e+03</td>\n",
       "      <td>1.274700e+02</td>\n",
       "      <td>0.000000</td>\n",
       "      <td>2015.000000</td>\n",
       "    </tr>\n",
       "    <tr>\n",
       "      <th>50%</th>\n",
       "      <td>1.370000</td>\n",
       "      <td>1.073768e+05</td>\n",
       "      <td>8.645300e+03</td>\n",
       "      <td>2.906102e+04</td>\n",
       "      <td>1.849900e+02</td>\n",
       "      <td>3.974383e+04</td>\n",
       "      <td>2.636282e+04</td>\n",
       "      <td>2.647710e+03</td>\n",
       "      <td>0.000000</td>\n",
       "      <td>2016.000000</td>\n",
       "    </tr>\n",
       "    <tr>\n",
       "      <th>75%</th>\n",
       "      <td>1.660000</td>\n",
       "      <td>4.329623e+05</td>\n",
       "      <td>1.110202e+05</td>\n",
       "      <td>1.502069e+05</td>\n",
       "      <td>6.243420e+03</td>\n",
       "      <td>1.107834e+05</td>\n",
       "      <td>8.333767e+04</td>\n",
       "      <td>2.202925e+04</td>\n",
       "      <td>132.500000</td>\n",
       "      <td>2017.000000</td>\n",
       "    </tr>\n",
       "    <tr>\n",
       "      <th>max</th>\n",
       "      <td>3.250000</td>\n",
       "      <td>6.250565e+07</td>\n",
       "      <td>2.274362e+07</td>\n",
       "      <td>2.047057e+07</td>\n",
       "      <td>2.546439e+06</td>\n",
       "      <td>1.937313e+07</td>\n",
       "      <td>1.338459e+07</td>\n",
       "      <td>5.719097e+06</td>\n",
       "      <td>551693.650000</td>\n",
       "      <td>2018.000000</td>\n",
       "    </tr>\n",
       "  </tbody>\n",
       "</table>\n",
       "</div>"
      ],
      "text/plain": [
       "       average price  total volume  small/medium         large   extra large  \\\n",
       "count   18249.000000  1.824900e+04  1.824900e+04  1.824900e+04  1.824900e+04   \n",
       "mean        1.405978  8.506440e+05  2.930084e+05  2.951546e+05  2.283974e+04   \n",
       "std         0.402677  3.453545e+06  1.264989e+06  1.204120e+06  1.074641e+05   \n",
       "min         0.440000  8.456000e+01  0.000000e+00  0.000000e+00  0.000000e+00   \n",
       "25%         1.100000  1.083858e+04  8.540700e+02  3.008780e+03  0.000000e+00   \n",
       "50%         1.370000  1.073768e+05  8.645300e+03  2.906102e+04  1.849900e+02   \n",
       "75%         1.660000  4.329623e+05  1.110202e+05  1.502069e+05  6.243420e+03   \n",
       "max         3.250000  6.250565e+07  2.274362e+07  2.047057e+07  2.546439e+06   \n",
       "\n",
       "         total bags    small bags    large bags    xlarge bags          year  \n",
       "count  1.824900e+04  1.824900e+04  1.824900e+04   18249.000000  18249.000000  \n",
       "mean   2.396392e+05  1.821947e+05  5.433809e+04    3106.426507   2016.147899  \n",
       "std    9.862424e+05  7.461785e+05  2.439660e+05   17692.894652      0.939938  \n",
       "min    0.000000e+00  0.000000e+00  0.000000e+00       0.000000   2015.000000  \n",
       "25%    5.088640e+03  2.849420e+03  1.274700e+02       0.000000   2015.000000  \n",
       "50%    3.974383e+04  2.636282e+04  2.647710e+03       0.000000   2016.000000  \n",
       "75%    1.107834e+05  8.333767e+04  2.202925e+04     132.500000   2017.000000  \n",
       "max    1.937313e+07  1.338459e+07  5.719097e+06  551693.650000   2018.000000  "
      ]
     },
     "execution_count": 14,
     "metadata": {},
     "output_type": "execute_result"
    }
   ],
   "source": [
    "# Checking outliers\n",
    "\n",
    "data.describe()"
   ]
  },
  {
   "cell_type": "code",
   "execution_count": 15,
   "id": "30dea51d-436b-45ed-8d78-c7212937d9a9",
   "metadata": {},
   "outputs": [
    {
     "data": {
      "image/png": "[encoded data removed]",
      "text/plain": [
       "<Figure size 800x300 with 3 Axes>"
      ]
     },
     "metadata": {},
     "output_type": "display_data"
    }
   ],
   "source": [
    "fig, axes = plt.subplots(nrows=1, ncols=3, figsize=(8, 3))\n",
    "\n",
    "data['average price'].hist(ax=axes[0])\n",
    "axes[0].set_title('histogram avg price')\n",
    "\n",
    "data['total volume'].hist(ax = axes[1])\n",
    "axes[1].set_title('histogram total volume')\n",
    "\n",
    "data['total bags'].hist(ax = axes[2])\n",
    "axes[2].set_title('histogram total bags')\n",
    "\n",
    "plt.tight_layout()\n",
    "plt.show()\n",
    "\n"
   ]
  },
  {
   "cell_type": "markdown",
   "id": "e5707d55-f479-40c9-a8f2-5bf68f6cd71f",
   "metadata": {},
   "source": [
    "average price histogram is slightly right skewed meaning there are some outliers, and total volume and total bags histograms are \n",
    "completely right skewed meaning there are many outliers."
   ]
  },
  {
   "cell_type": "code",
   "execution_count": 16,
   "id": "e8afcb99-e712-41d7-9700-bda4c4c3b4f2",
   "metadata": {},
   "outputs": [
    {
     "data": {
      "image/png": "[encoded data removed]",
      "text/plain": [
       "<Figure size 1500x500 with 3 Axes>"
      ]
     },
     "metadata": {},
     "output_type": "display_data"
    }
   ],
   "source": [
    "fig, axes = plt.subplots(nrows=1, ncols=3, figsize=(15, 5))\n",
    "\n",
    "# Create a boxplot for each column\n",
    "data[['average price']].boxplot(ax=axes[0])\n",
    "axes[0].set_title('average price boxplot')\n",
    "\n",
    "data[['total volume']].boxplot(ax=axes[1])\n",
    "axes[1].set_title('total volume boxplot')\n",
    "\n",
    "data[['total bags']].boxplot(ax=axes[2])\n",
    "axes[2].set_title('total bags boxplot')\n",
    "\n",
    "plt.tight_layout()\n",
    "plt.show()"
   ]
  },
  {
   "cell_type": "markdown",
   "id": "551e83d3-b4ba-400c-8c56-f387463d1273",
   "metadata": {},
   "source": [
    "Almost all outliers are grester than maximum value for all average price, volume and no of bags."
   ]
  },
  {
   "cell_type": "markdown",
   "id": "e9f47f73-329e-416b-aaef-abba230e611d",
   "metadata": {},
   "source": [
    "#### average price outliers"
   ]
  },
  {
   "cell_type": "code",
   "execution_count": 17,
   "id": "eedb1d55-3efa-4e41-8ae5-7822321cea64",
   "metadata": {},
   "outputs": [
    {
     "name": "stdout",
     "output_type": "stream",
     "text": [
      "upper limit :2.614008076262528\n",
      "lower limit :0.19794874328922796\n"
     ]
    }
   ],
   "source": [
    "# upper and lower limit\n",
    "\n",
    "upper_limit = data['average price'].mean() + 3 * data['average price'].std()\n",
    "lower_limit = data['average price'].mean() - 3 * data['average price'].std()\n",
    "\n",
    "print('upper limit :' + str(upper_limit))\n",
    "print('lower limit :' + str(lower_limit))"
   ]
  },
  {
   "cell_type": "code",
   "execution_count": 18,
   "id": "30a6ae39-7f99-4db6-8c02-43192c4cc12b",
   "metadata": {},
   "outputs": [
    {
     "data": {
      "text/html": [
       "<div>\n",
       "<style scoped>\n",
       "    .dataframe tbody tr th:only-of-type {\n",
       "        vertical-align: middle;\n",
       "    }\n",
       "\n",
       "    .dataframe tbody tr th {\n",
       "        vertical-align: top;\n",
       "    }\n",
       "\n",
       "    .dataframe thead th {\n",
       "        text-align: right;\n",
       "    }\n",
       "</style>\n",
       "<table border=\"1\" class=\"dataframe\">\n",
       "  <thead>\n",
       "    <tr style=\"text-align: right;\">\n",
       "      <th></th>\n",
       "      <th>date</th>\n",
       "      <th>average price</th>\n",
       "      <th>total volume</th>\n",
       "      <th>small/medium</th>\n",
       "      <th>large</th>\n",
       "      <th>extra large</th>\n",
       "      <th>total bags</th>\n",
       "      <th>small bags</th>\n",
       "      <th>large bags</th>\n",
       "      <th>xlarge bags</th>\n",
       "      <th>type</th>\n",
       "      <th>year</th>\n",
       "      <th>region</th>\n",
       "    </tr>\n",
       "  </thead>\n",
       "  <tbody>\n",
       "    <tr>\n",
       "      <th>11320</th>\n",
       "      <td>2015-10-18</td>\n",
       "      <td>2.79</td>\n",
       "      <td>12642.11</td>\n",
       "      <td>961.55</td>\n",
       "      <td>11680.56</td>\n",
       "      <td>0.00</td>\n",
       "      <td>0.00</td>\n",
       "      <td>0.00</td>\n",
       "      <td>0.00</td>\n",
       "      <td>0.0</td>\n",
       "      <td>organic</td>\n",
       "      <td>2015</td>\n",
       "      <td>SanFrancisco</td>\n",
       "    </tr>\n",
       "    <tr>\n",
       "      <th>11321</th>\n",
       "      <td>2015-10-11</td>\n",
       "      <td>2.66</td>\n",
       "      <td>14031.73</td>\n",
       "      <td>1046.84</td>\n",
       "      <td>12984.89</td>\n",
       "      <td>0.00</td>\n",
       "      <td>0.00</td>\n",
       "      <td>0.00</td>\n",
       "      <td>0.00</td>\n",
       "      <td>0.0</td>\n",
       "      <td>organic</td>\n",
       "      <td>2015</td>\n",
       "      <td>SanFrancisco</td>\n",
       "    </tr>\n",
       "    <tr>\n",
       "      <th>11323</th>\n",
       "      <td>2015-09-27</td>\n",
       "      <td>2.74</td>\n",
       "      <td>11798.62</td>\n",
       "      <td>1220.59</td>\n",
       "      <td>10523.68</td>\n",
       "      <td>0.00</td>\n",
       "      <td>54.35</td>\n",
       "      <td>54.35</td>\n",
       "      <td>0.00</td>\n",
       "      <td>0.0</td>\n",
       "      <td>organic</td>\n",
       "      <td>2015</td>\n",
       "      <td>SanFrancisco</td>\n",
       "    </tr>\n",
       "    <tr>\n",
       "      <th>11324</th>\n",
       "      <td>2015-09-20</td>\n",
       "      <td>2.79</td>\n",
       "      <td>15197.42</td>\n",
       "      <td>1209.92</td>\n",
       "      <td>13971.53</td>\n",
       "      <td>0.00</td>\n",
       "      <td>15.97</td>\n",
       "      <td>15.97</td>\n",
       "      <td>0.00</td>\n",
       "      <td>0.0</td>\n",
       "      <td>organic</td>\n",
       "      <td>2015</td>\n",
       "      <td>SanFrancisco</td>\n",
       "    </tr>\n",
       "    <tr>\n",
       "      <th>11325</th>\n",
       "      <td>2015-09-13</td>\n",
       "      <td>2.73</td>\n",
       "      <td>14802.78</td>\n",
       "      <td>1404.23</td>\n",
       "      <td>13395.36</td>\n",
       "      <td>0.00</td>\n",
       "      <td>3.19</td>\n",
       "      <td>3.19</td>\n",
       "      <td>0.00</td>\n",
       "      <td>0.0</td>\n",
       "      <td>organic</td>\n",
       "      <td>2015</td>\n",
       "      <td>SanFrancisco</td>\n",
       "    </tr>\n",
       "    <tr>\n",
       "      <th>...</th>\n",
       "      <td>...</td>\n",
       "      <td>...</td>\n",
       "      <td>...</td>\n",
       "      <td>...</td>\n",
       "      <td>...</td>\n",
       "      <td>...</td>\n",
       "      <td>...</td>\n",
       "      <td>...</td>\n",
       "      <td>...</td>\n",
       "      <td>...</td>\n",
       "      <td>...</td>\n",
       "      <td>...</td>\n",
       "      <td>...</td>\n",
       "    </tr>\n",
       "    <tr>\n",
       "      <th>17302</th>\n",
       "      <td>2017-09-03</td>\n",
       "      <td>2.81</td>\n",
       "      <td>4111.66</td>\n",
       "      <td>22.60</td>\n",
       "      <td>2396.41</td>\n",
       "      <td>19.81</td>\n",
       "      <td>1672.84</td>\n",
       "      <td>71.11</td>\n",
       "      <td>1601.73</td>\n",
       "      <td>0.0</td>\n",
       "      <td>organic</td>\n",
       "      <td>2017</td>\n",
       "      <td>StLouis</td>\n",
       "    </tr>\n",
       "    <tr>\n",
       "      <th>17303</th>\n",
       "      <td>2017-08-27</td>\n",
       "      <td>2.84</td>\n",
       "      <td>3591.12</td>\n",
       "      <td>44.10</td>\n",
       "      <td>2900.22</td>\n",
       "      <td>10.77</td>\n",
       "      <td>636.03</td>\n",
       "      <td>190.01</td>\n",
       "      <td>446.02</td>\n",
       "      <td>0.0</td>\n",
       "      <td>organic</td>\n",
       "      <td>2017</td>\n",
       "      <td>StLouis</td>\n",
       "    </tr>\n",
       "    <tr>\n",
       "      <th>17304</th>\n",
       "      <td>2017-08-20</td>\n",
       "      <td>2.64</td>\n",
       "      <td>4715.07</td>\n",
       "      <td>149.97</td>\n",
       "      <td>2885.47</td>\n",
       "      <td>18.05</td>\n",
       "      <td>1661.58</td>\n",
       "      <td>697.14</td>\n",
       "      <td>964.44</td>\n",
       "      <td>0.0</td>\n",
       "      <td>organic</td>\n",
       "      <td>2017</td>\n",
       "      <td>StLouis</td>\n",
       "    </tr>\n",
       "    <tr>\n",
       "      <th>17402</th>\n",
       "      <td>2017-10-15</td>\n",
       "      <td>2.70</td>\n",
       "      <td>3288.85</td>\n",
       "      <td>125.79</td>\n",
       "      <td>659.65</td>\n",
       "      <td>0.00</td>\n",
       "      <td>2503.41</td>\n",
       "      <td>1736.66</td>\n",
       "      <td>766.75</td>\n",
       "      <td>0.0</td>\n",
       "      <td>organic</td>\n",
       "      <td>2017</td>\n",
       "      <td>Tampa</td>\n",
       "    </tr>\n",
       "    <tr>\n",
       "      <th>17428</th>\n",
       "      <td>2017-04-16</td>\n",
       "      <td>3.17</td>\n",
       "      <td>3018.56</td>\n",
       "      <td>1255.55</td>\n",
       "      <td>82.31</td>\n",
       "      <td>0.00</td>\n",
       "      <td>1680.70</td>\n",
       "      <td>1542.22</td>\n",
       "      <td>138.48</td>\n",
       "      <td>0.0</td>\n",
       "      <td>organic</td>\n",
       "      <td>2017</td>\n",
       "      <td>Tampa</td>\n",
       "    </tr>\n",
       "  </tbody>\n",
       "</table>\n",
       "<p>131 rows × 13 columns</p>\n",
       "</div>"
      ],
      "text/plain": [
       "             date  average price  total volume  small/medium     large  \\\n",
       "11320  2015-10-18           2.79      12642.11        961.55  11680.56   \n",
       "11321  2015-10-11           2.66      14031.73       1046.84  12984.89   \n",
       "11323  2015-09-27           2.74      11798.62       1220.59  10523.68   \n",
       "11324  2015-09-20           2.79      15197.42       1209.92  13971.53   \n",
       "11325  2015-09-13           2.73      14802.78       1404.23  13395.36   \n",
       "...           ...            ...           ...           ...       ...   \n",
       "17302  2017-09-03           2.81       4111.66         22.60   2396.41   \n",
       "17303  2017-08-27           2.84       3591.12         44.10   2900.22   \n",
       "17304  2017-08-20           2.64       4715.07        149.97   2885.47   \n",
       "17402  2017-10-15           2.70       3288.85        125.79    659.65   \n",
       "17428  2017-04-16           3.17       3018.56       1255.55     82.31   \n",
       "\n",
       "       extra large  total bags  small bags  large bags  xlarge bags     type  \\\n",
       "11320         0.00        0.00        0.00        0.00          0.0  organic   \n",
       "11321         0.00        0.00        0.00        0.00          0.0  organic   \n",
       "11323         0.00       54.35       54.35        0.00          0.0  organic   \n",
       "11324         0.00       15.97       15.97        0.00          0.0  organic   \n",
       "11325         0.00        3.19        3.19        0.00          0.0  organic   \n",
       "...            ...         ...         ...         ...          ...      ...   \n",
       "17302        19.81     1672.84       71.11     1601.73          0.0  organic   \n",
       "17303        10.77      636.03      190.01      446.02          0.0  organic   \n",
       "17304        18.05     1661.58      697.14      964.44          0.0  organic   \n",
       "17402         0.00     2503.41     1736.66      766.75          0.0  organic   \n",
       "17428         0.00     1680.70     1542.22      138.48          0.0  organic   \n",
       "\n",
       "       year        region  \n",
       "11320  2015  SanFrancisco  \n",
       "11321  2015  SanFrancisco  \n",
       "11323  2015  SanFrancisco  \n",
       "11324  2015  SanFrancisco  \n",
       "11325  2015  SanFrancisco  \n",
       "...     ...           ...  \n",
       "17302  2017       StLouis  \n",
       "17303  2017       StLouis  \n",
       "17304  2017       StLouis  \n",
       "17402  2017         Tampa  \n",
       "17428  2017         Tampa  \n",
       "\n",
       "[131 rows x 13 columns]"
      ]
     },
     "execution_count": 18,
     "metadata": {},
     "output_type": "execute_result"
    }
   ],
   "source": [
    "# find outliers\n",
    "\n",
    "outlier_price = data.loc[(data['average price'] > upper_limit) | (data['average price'] < lower_limit)]\n",
    "outlier_price\n",
    "\n"
   ]
  },
  {
   "cell_type": "code",
   "execution_count": 19,
   "id": "16d8ce68-2834-42f3-ae13-adb004420017",
   "metadata": {},
   "outputs": [
    {
     "data": {
      "text/plain": [
       "type\n",
       "organic    131\n",
       "Name: count, dtype: int64"
      ]
     },
     "execution_count": 19,
     "metadata": {},
     "output_type": "execute_result"
    }
   ],
   "source": [
    "outlier_price['type'].value_counts()"
   ]
  },
  {
   "cell_type": "code",
   "execution_count": 20,
   "id": "cd73554d-d9d7-41e5-a8eb-5c84ec4a3885",
   "metadata": {},
   "outputs": [
    {
     "data": {
      "text/plain": [
       "region\n",
       "SanFrancisco           37\n",
       "Seattle                12\n",
       "RaleighGreensboro      10\n",
       "Spokane                10\n",
       "Boise                   9\n",
       "Portland                8\n",
       "HartfordSpringfield     7\n",
       "Charlotte               6\n",
       "LasVegas                5\n",
       "StLouis                 5\n",
       "MiamiFtLauderdale       3\n",
       "Orlando                 3\n",
       "WestTexNewMexico        3\n",
       "Tampa                   2\n",
       "GrandRapids             2\n",
       "SanDiego                2\n",
       "Sacramento              2\n",
       "PhoenixTucson           2\n",
       "Jacksonville            1\n",
       "NewYork                 1\n",
       "Atlanta                 1\n",
       "Name: count, dtype: int64"
      ]
     },
     "execution_count": 20,
     "metadata": {},
     "output_type": "execute_result"
    }
   ],
   "source": [
    "outlier_price['region'].value_counts()"
   ]
  },
  {
   "cell_type": "markdown",
   "id": "abaa80b0-6a6f-4815-ab4d-16bfc9f645f6",
   "metadata": {},
   "source": [
    "All outliers in average price i.e all higher prices belong to organic avocados. "
   ]
  },
  {
   "cell_type": "code",
   "execution_count": 21,
   "id": "10ff3a75-511b-4398-8f43-e55674ec415b",
   "metadata": {},
   "outputs": [
    {
     "data": {
      "text/plain": [
       "0.7178475532905912"
      ]
     },
     "execution_count": 21,
     "metadata": {},
     "output_type": "execute_result"
    }
   ],
   "source": [
    "# data size of outlier_price\n",
    "\n",
    "(outlier_price.size/data.size)*100"
   ]
  },
  {
   "cell_type": "markdown",
   "id": "5aab2cc8-6e9e-4c49-8132-cdfd6cd1ccda",
   "metadata": {},
   "source": [
    "#### volume outliers"
   ]
  },
  {
   "cell_type": "code",
   "execution_count": 22,
   "id": "af8c4c89-73b7-497b-9e5b-d46eaf4e77e4",
   "metadata": {},
   "outputs": [
    {
     "name": "stdout",
     "output_type": "stream",
     "text": [
      "upper limit :11211280.079207376\n",
      "lower limit :-9509992.053189512\n"
     ]
    }
   ],
   "source": [
    "# upper and lower limit\n",
    "\n",
    "upper_limit = data['total volume'].mean() + 3 * data['total volume'].std()\n",
    "lower_limit = data['total volume'].mean() - 3 * data['total volume'].std()\n",
    "\n",
    "print('upper limit :' + str(upper_limit))\n",
    "print('lower limit :' + str(lower_limit))"
   ]
  },
  {
   "cell_type": "code",
   "execution_count": 23,
   "id": "5f462308-a9b5-46d4-8c73-a134b7c46ab0",
   "metadata": {},
   "outputs": [
    {
     "data": {
      "text/html": [
       "<div>\n",
       "<style scoped>\n",
       "    .dataframe tbody tr th:only-of-type {\n",
       "        vertical-align: middle;\n",
       "    }\n",
       "\n",
       "    .dataframe tbody tr th {\n",
       "        vertical-align: top;\n",
       "    }\n",
       "\n",
       "    .dataframe thead th {\n",
       "        text-align: right;\n",
       "    }\n",
       "</style>\n",
       "<table border=\"1\" class=\"dataframe\">\n",
       "  <thead>\n",
       "    <tr style=\"text-align: right;\">\n",
       "      <th></th>\n",
       "      <th>date</th>\n",
       "      <th>average price</th>\n",
       "      <th>total volume</th>\n",
       "      <th>small/medium</th>\n",
       "      <th>large</th>\n",
       "      <th>extra large</th>\n",
       "      <th>total bags</th>\n",
       "      <th>small bags</th>\n",
       "      <th>large bags</th>\n",
       "      <th>xlarge bags</th>\n",
       "      <th>type</th>\n",
       "      <th>year</th>\n",
       "      <th>region</th>\n",
       "    </tr>\n",
       "  </thead>\n",
       "  <tbody>\n",
       "    <tr>\n",
       "      <th>2652</th>\n",
       "      <td>2015-12-27</td>\n",
       "      <td>0.95</td>\n",
       "      <td>27297983.67</td>\n",
       "      <td>9626901.09</td>\n",
       "      <td>10197890.05</td>\n",
       "      <td>1184340.09</td>\n",
       "      <td>6288852.44</td>\n",
       "      <td>4850404.09</td>\n",
       "      <td>1252626.31</td>\n",
       "      <td>185822.04</td>\n",
       "      <td>conventional</td>\n",
       "      <td>2015</td>\n",
       "      <td>TotalUS</td>\n",
       "    </tr>\n",
       "    <tr>\n",
       "      <th>2653</th>\n",
       "      <td>2015-12-20</td>\n",
       "      <td>0.98</td>\n",
       "      <td>25083647.17</td>\n",
       "      <td>8710021.76</td>\n",
       "      <td>9329861.85</td>\n",
       "      <td>1201020.01</td>\n",
       "      <td>5842743.55</td>\n",
       "      <td>4618389.66</td>\n",
       "      <td>1025048.77</td>\n",
       "      <td>199305.12</td>\n",
       "      <td>conventional</td>\n",
       "      <td>2015</td>\n",
       "      <td>TotalUS</td>\n",
       "    </tr>\n",
       "    <tr>\n",
       "      <th>2654</th>\n",
       "      <td>2015-12-13</td>\n",
       "      <td>0.93</td>\n",
       "      <td>28041335.38</td>\n",
       "      <td>9855053.66</td>\n",
       "      <td>10805838.91</td>\n",
       "      <td>1016163.17</td>\n",
       "      <td>6364279.64</td>\n",
       "      <td>4964462.13</td>\n",
       "      <td>1371440.28</td>\n",
       "      <td>28377.23</td>\n",
       "      <td>conventional</td>\n",
       "      <td>2015</td>\n",
       "      <td>TotalUS</td>\n",
       "    </tr>\n",
       "    <tr>\n",
       "      <th>2655</th>\n",
       "      <td>2015-12-06</td>\n",
       "      <td>0.89</td>\n",
       "      <td>28800396.57</td>\n",
       "      <td>9405464.36</td>\n",
       "      <td>12160838.62</td>\n",
       "      <td>931830.63</td>\n",
       "      <td>6302262.96</td>\n",
       "      <td>5005077.36</td>\n",
       "      <td>1233956.21</td>\n",
       "      <td>63229.39</td>\n",
       "      <td>conventional</td>\n",
       "      <td>2015</td>\n",
       "      <td>TotalUS</td>\n",
       "    </tr>\n",
       "    <tr>\n",
       "      <th>2656</th>\n",
       "      <td>2015-11-29</td>\n",
       "      <td>0.99</td>\n",
       "      <td>22617999.38</td>\n",
       "      <td>8094803.56</td>\n",
       "      <td>9003178.41</td>\n",
       "      <td>731008.41</td>\n",
       "      <td>4789009.00</td>\n",
       "      <td>3901953.04</td>\n",
       "      <td>856560.34</td>\n",
       "      <td>30495.62</td>\n",
       "      <td>conventional</td>\n",
       "      <td>2015</td>\n",
       "      <td>TotalUS</td>\n",
       "    </tr>\n",
       "    <tr>\n",
       "      <th>...</th>\n",
       "      <td>...</td>\n",
       "      <td>...</td>\n",
       "      <td>...</td>\n",
       "      <td>...</td>\n",
       "      <td>...</td>\n",
       "      <td>...</td>\n",
       "      <td>...</td>\n",
       "      <td>...</td>\n",
       "      <td>...</td>\n",
       "      <td>...</td>\n",
       "      <td>...</td>\n",
       "      <td>...</td>\n",
       "      <td>...</td>\n",
       "    </tr>\n",
       "    <tr>\n",
       "      <th>9097</th>\n",
       "      <td>2018-02-04</td>\n",
       "      <td>0.87</td>\n",
       "      <td>62505646.52</td>\n",
       "      <td>21620180.90</td>\n",
       "      <td>20445501.03</td>\n",
       "      <td>1066830.22</td>\n",
       "      <td>19373134.37</td>\n",
       "      <td>13384586.80</td>\n",
       "      <td>5719096.61</td>\n",
       "      <td>269450.96</td>\n",
       "      <td>conventional</td>\n",
       "      <td>2018</td>\n",
       "      <td>TotalUS</td>\n",
       "    </tr>\n",
       "    <tr>\n",
       "      <th>9098</th>\n",
       "      <td>2018-01-28</td>\n",
       "      <td>1.09</td>\n",
       "      <td>40171640.84</td>\n",
       "      <td>14551799.50</td>\n",
       "      <td>12119884.61</td>\n",
       "      <td>575974.74</td>\n",
       "      <td>12923981.99</td>\n",
       "      <td>9749412.19</td>\n",
       "      <td>3041125.42</td>\n",
       "      <td>133444.38</td>\n",
       "      <td>conventional</td>\n",
       "      <td>2018</td>\n",
       "      <td>TotalUS</td>\n",
       "    </tr>\n",
       "    <tr>\n",
       "      <th>9099</th>\n",
       "      <td>2018-01-21</td>\n",
       "      <td>1.08</td>\n",
       "      <td>42939821.55</td>\n",
       "      <td>14218843.83</td>\n",
       "      <td>13929702.12</td>\n",
       "      <td>928815.12</td>\n",
       "      <td>13862460.48</td>\n",
       "      <td>9866218.28</td>\n",
       "      <td>3789722.90</td>\n",
       "      <td>206519.30</td>\n",
       "      <td>conventional</td>\n",
       "      <td>2018</td>\n",
       "      <td>TotalUS</td>\n",
       "    </tr>\n",
       "    <tr>\n",
       "      <th>9100</th>\n",
       "      <td>2018-01-14</td>\n",
       "      <td>1.20</td>\n",
       "      <td>37299945.22</td>\n",
       "      <td>12600918.24</td>\n",
       "      <td>11866197.84</td>\n",
       "      <td>652808.40</td>\n",
       "      <td>12180020.74</td>\n",
       "      <td>8128241.88</td>\n",
       "      <td>3917569.95</td>\n",
       "      <td>134208.91</td>\n",
       "      <td>conventional</td>\n",
       "      <td>2018</td>\n",
       "      <td>TotalUS</td>\n",
       "    </tr>\n",
       "    <tr>\n",
       "      <th>9101</th>\n",
       "      <td>2018-01-07</td>\n",
       "      <td>1.13</td>\n",
       "      <td>36703156.72</td>\n",
       "      <td>13730992.75</td>\n",
       "      <td>10781339.21</td>\n",
       "      <td>677714.86</td>\n",
       "      <td>11513109.90</td>\n",
       "      <td>8231766.23</td>\n",
       "      <td>3130919.10</td>\n",
       "      <td>150424.57</td>\n",
       "      <td>conventional</td>\n",
       "      <td>2018</td>\n",
       "      <td>TotalUS</td>\n",
       "    </tr>\n",
       "  </tbody>\n",
       "</table>\n",
       "<p>171 rows × 13 columns</p>\n",
       "</div>"
      ],
      "text/plain": [
       "            date  average price  total volume  small/medium        large  \\\n",
       "2652  2015-12-27           0.95   27297983.67    9626901.09  10197890.05   \n",
       "2653  2015-12-20           0.98   25083647.17    8710021.76   9329861.85   \n",
       "2654  2015-12-13           0.93   28041335.38    9855053.66  10805838.91   \n",
       "2655  2015-12-06           0.89   28800396.57    9405464.36  12160838.62   \n",
       "2656  2015-11-29           0.99   22617999.38    8094803.56   9003178.41   \n",
       "...          ...            ...           ...           ...          ...   \n",
       "9097  2018-02-04           0.87   62505646.52   21620180.90  20445501.03   \n",
       "9098  2018-01-28           1.09   40171640.84   14551799.50  12119884.61   \n",
       "9099  2018-01-21           1.08   42939821.55   14218843.83  13929702.12   \n",
       "9100  2018-01-14           1.20   37299945.22   12600918.24  11866197.84   \n",
       "9101  2018-01-07           1.13   36703156.72   13730992.75  10781339.21   \n",
       "\n",
       "      extra large   total bags   small bags  large bags  xlarge bags  \\\n",
       "2652   1184340.09   6288852.44   4850404.09  1252626.31    185822.04   \n",
       "2653   1201020.01   5842743.55   4618389.66  1025048.77    199305.12   \n",
       "2654   1016163.17   6364279.64   4964462.13  1371440.28     28377.23   \n",
       "2655    931830.63   6302262.96   5005077.36  1233956.21     63229.39   \n",
       "2656    731008.41   4789009.00   3901953.04   856560.34     30495.62   \n",
       "...           ...          ...          ...         ...          ...   \n",
       "9097   1066830.22  19373134.37  13384586.80  5719096.61    269450.96   \n",
       "9098    575974.74  12923981.99   9749412.19  3041125.42    133444.38   \n",
       "9099    928815.12  13862460.48   9866218.28  3789722.90    206519.30   \n",
       "9100    652808.40  12180020.74   8128241.88  3917569.95    134208.91   \n",
       "9101    677714.86  11513109.90   8231766.23  3130919.10    150424.57   \n",
       "\n",
       "              type  year   region  \n",
       "2652  conventional  2015  TotalUS  \n",
       "2653  conventional  2015  TotalUS  \n",
       "2654  conventional  2015  TotalUS  \n",
       "2655  conventional  2015  TotalUS  \n",
       "2656  conventional  2015  TotalUS  \n",
       "...            ...   ...      ...  \n",
       "9097  conventional  2018  TotalUS  \n",
       "9098  conventional  2018  TotalUS  \n",
       "9099  conventional  2018  TotalUS  \n",
       "9100  conventional  2018  TotalUS  \n",
       "9101  conventional  2018  TotalUS  \n",
       "\n",
       "[171 rows x 13 columns]"
      ]
     },
     "execution_count": 23,
     "metadata": {},
     "output_type": "execute_result"
    }
   ],
   "source": [
    "# find outliers\n",
    "\n",
    "outlier_volume = data.loc[(data['total volume'] > upper_limit) | (data['total volume'] < lower_limit)]\n",
    "outlier_volume"
   ]
  },
  {
   "cell_type": "code",
   "execution_count": 24,
   "id": "8175c9c9-b005-47ef-adc4-ac31c81be6bf",
   "metadata": {},
   "outputs": [
    {
     "data": {
      "text/plain": [
       "region\n",
       "TotalUS       169\n",
       "California      1\n",
       "West            1\n",
       "Name: count, dtype: int64"
      ]
     },
     "execution_count": 24,
     "metadata": {},
     "output_type": "execute_result"
    }
   ],
   "source": [
    "outlier_volume['region'].value_counts()"
   ]
  },
  {
   "cell_type": "code",
   "execution_count": 25,
   "id": "10fa8264-064c-40b6-ba59-d7e886b7f2de",
   "metadata": {},
   "outputs": [
    {
     "data": {
      "text/plain": [
       "type\n",
       "conventional    171\n",
       "Name: count, dtype: int64"
      ]
     },
     "execution_count": 25,
     "metadata": {},
     "output_type": "execute_result"
    }
   ],
   "source": [
    "outlier_volume['type'].value_counts()"
   ]
  },
  {
   "cell_type": "markdown",
   "id": "1cbc9b8b-0209-4909-9042-24af3df2384b",
   "metadata": {},
   "source": [
    "Almost all outliers or higher volumes belong to region Total US and are conventional avocados."
   ]
  },
  {
   "cell_type": "code",
   "execution_count": 26,
   "id": "29bd8a18-1d66-44d8-8ab9-c83cade4e581",
   "metadata": {},
   "outputs": [
    {
     "data": {
      "text/plain": [
       "0.9370376458984053"
      ]
     },
     "execution_count": 26,
     "metadata": {},
     "output_type": "execute_result"
    }
   ],
   "source": [
    "#size of outlier_volume\n",
    "\n",
    "(outlier_volume.size/data.size)*100"
   ]
  },
  {
   "cell_type": "markdown",
   "id": "c37a2200-e405-45dd-9acd-9d8320801b81",
   "metadata": {},
   "source": [
    "#### total bags outliers"
   ]
  },
  {
   "cell_type": "code",
   "execution_count": 27,
   "id": "499d752d-5ca8-41b1-9bca-71cd7f021d1f",
   "metadata": {},
   "outputs": [
    {
     "name": "stdout",
     "output_type": "stream",
     "text": [
      "upper limit :3198366.3997090776\n",
      "lower limit :-2719087.9955893997\n"
     ]
    }
   ],
   "source": [
    "# upper and lower limit\n",
    "\n",
    "upper_limit = data['total bags'].mean() + 3 * data['total bags'].std()\n",
    "lower_limit = data['total bags'].mean() - 3 * data['total bags'].std()\n",
    "\n",
    "print('upper limit :' + str(upper_limit))\n",
    "print('lower limit :' + str(lower_limit))"
   ]
  },
  {
   "cell_type": "code",
   "execution_count": 28,
   "id": "ff26d322-48e6-4bb3-93bc-c459a3d11352",
   "metadata": {},
   "outputs": [
    {
     "data": {
      "text/html": [
       "<div>\n",
       "<style scoped>\n",
       "    .dataframe tbody tr th:only-of-type {\n",
       "        vertical-align: middle;\n",
       "    }\n",
       "\n",
       "    .dataframe tbody tr th {\n",
       "        vertical-align: top;\n",
       "    }\n",
       "\n",
       "    .dataframe thead th {\n",
       "        text-align: right;\n",
       "    }\n",
       "</style>\n",
       "<table border=\"1\" class=\"dataframe\">\n",
       "  <thead>\n",
       "    <tr style=\"text-align: right;\">\n",
       "      <th></th>\n",
       "      <th>date</th>\n",
       "      <th>average price</th>\n",
       "      <th>total volume</th>\n",
       "      <th>small/medium</th>\n",
       "      <th>large</th>\n",
       "      <th>extra large</th>\n",
       "      <th>total bags</th>\n",
       "      <th>small bags</th>\n",
       "      <th>large bags</th>\n",
       "      <th>xlarge bags</th>\n",
       "      <th>type</th>\n",
       "      <th>year</th>\n",
       "      <th>region</th>\n",
       "    </tr>\n",
       "  </thead>\n",
       "  <tbody>\n",
       "    <tr>\n",
       "      <th>2652</th>\n",
       "      <td>2015-12-27</td>\n",
       "      <td>0.95</td>\n",
       "      <td>27297983.67</td>\n",
       "      <td>9626901.09</td>\n",
       "      <td>10197890.05</td>\n",
       "      <td>1184340.09</td>\n",
       "      <td>6288852.44</td>\n",
       "      <td>4850404.09</td>\n",
       "      <td>1252626.31</td>\n",
       "      <td>185822.04</td>\n",
       "      <td>conventional</td>\n",
       "      <td>2015</td>\n",
       "      <td>TotalUS</td>\n",
       "    </tr>\n",
       "    <tr>\n",
       "      <th>2653</th>\n",
       "      <td>2015-12-20</td>\n",
       "      <td>0.98</td>\n",
       "      <td>25083647.17</td>\n",
       "      <td>8710021.76</td>\n",
       "      <td>9329861.85</td>\n",
       "      <td>1201020.01</td>\n",
       "      <td>5842743.55</td>\n",
       "      <td>4618389.66</td>\n",
       "      <td>1025048.77</td>\n",
       "      <td>199305.12</td>\n",
       "      <td>conventional</td>\n",
       "      <td>2015</td>\n",
       "      <td>TotalUS</td>\n",
       "    </tr>\n",
       "    <tr>\n",
       "      <th>2654</th>\n",
       "      <td>2015-12-13</td>\n",
       "      <td>0.93</td>\n",
       "      <td>28041335.38</td>\n",
       "      <td>9855053.66</td>\n",
       "      <td>10805838.91</td>\n",
       "      <td>1016163.17</td>\n",
       "      <td>6364279.64</td>\n",
       "      <td>4964462.13</td>\n",
       "      <td>1371440.28</td>\n",
       "      <td>28377.23</td>\n",
       "      <td>conventional</td>\n",
       "      <td>2015</td>\n",
       "      <td>TotalUS</td>\n",
       "    </tr>\n",
       "    <tr>\n",
       "      <th>2655</th>\n",
       "      <td>2015-12-06</td>\n",
       "      <td>0.89</td>\n",
       "      <td>28800396.57</td>\n",
       "      <td>9405464.36</td>\n",
       "      <td>12160838.62</td>\n",
       "      <td>931830.63</td>\n",
       "      <td>6302262.96</td>\n",
       "      <td>5005077.36</td>\n",
       "      <td>1233956.21</td>\n",
       "      <td>63229.39</td>\n",
       "      <td>conventional</td>\n",
       "      <td>2015</td>\n",
       "      <td>TotalUS</td>\n",
       "    </tr>\n",
       "    <tr>\n",
       "      <th>2656</th>\n",
       "      <td>2015-11-29</td>\n",
       "      <td>0.99</td>\n",
       "      <td>22617999.38</td>\n",
       "      <td>8094803.56</td>\n",
       "      <td>9003178.41</td>\n",
       "      <td>731008.41</td>\n",
       "      <td>4789009.00</td>\n",
       "      <td>3901953.04</td>\n",
       "      <td>856560.34</td>\n",
       "      <td>30495.62</td>\n",
       "      <td>conventional</td>\n",
       "      <td>2015</td>\n",
       "      <td>TotalUS</td>\n",
       "    </tr>\n",
       "    <tr>\n",
       "      <th>...</th>\n",
       "      <td>...</td>\n",
       "      <td>...</td>\n",
       "      <td>...</td>\n",
       "      <td>...</td>\n",
       "      <td>...</td>\n",
       "      <td>...</td>\n",
       "      <td>...</td>\n",
       "      <td>...</td>\n",
       "      <td>...</td>\n",
       "      <td>...</td>\n",
       "      <td>...</td>\n",
       "      <td>...</td>\n",
       "      <td>...</td>\n",
       "    </tr>\n",
       "    <tr>\n",
       "      <th>9100</th>\n",
       "      <td>2018-01-14</td>\n",
       "      <td>1.20</td>\n",
       "      <td>37299945.22</td>\n",
       "      <td>12600918.24</td>\n",
       "      <td>11866197.84</td>\n",
       "      <td>652808.40</td>\n",
       "      <td>12180020.74</td>\n",
       "      <td>8128241.88</td>\n",
       "      <td>3917569.95</td>\n",
       "      <td>134208.91</td>\n",
       "      <td>conventional</td>\n",
       "      <td>2018</td>\n",
       "      <td>TotalUS</td>\n",
       "    </tr>\n",
       "    <tr>\n",
       "      <th>9101</th>\n",
       "      <td>2018-01-07</td>\n",
       "      <td>1.13</td>\n",
       "      <td>36703156.72</td>\n",
       "      <td>13730992.75</td>\n",
       "      <td>10781339.21</td>\n",
       "      <td>677714.86</td>\n",
       "      <td>11513109.90</td>\n",
       "      <td>8231766.23</td>\n",
       "      <td>3130919.10</td>\n",
       "      <td>150424.57</td>\n",
       "      <td>conventional</td>\n",
       "      <td>2018</td>\n",
       "      <td>TotalUS</td>\n",
       "    </tr>\n",
       "    <tr>\n",
       "      <th>9103</th>\n",
       "      <td>2018-03-18</td>\n",
       "      <td>0.99</td>\n",
       "      <td>7254940.65</td>\n",
       "      <td>2099082.66</td>\n",
       "      <td>1707752.84</td>\n",
       "      <td>115997.93</td>\n",
       "      <td>3332107.22</td>\n",
       "      <td>1333247.05</td>\n",
       "      <td>1982086.02</td>\n",
       "      <td>16774.15</td>\n",
       "      <td>conventional</td>\n",
       "      <td>2018</td>\n",
       "      <td>West</td>\n",
       "    </tr>\n",
       "    <tr>\n",
       "      <th>9106</th>\n",
       "      <td>2018-02-25</td>\n",
       "      <td>0.97</td>\n",
       "      <td>7408451.31</td>\n",
       "      <td>2154414.96</td>\n",
       "      <td>1740237.35</td>\n",
       "      <td>117766.27</td>\n",
       "      <td>3396032.73</td>\n",
       "      <td>1164132.42</td>\n",
       "      <td>2205336.14</td>\n",
       "      <td>26564.17</td>\n",
       "      <td>conventional</td>\n",
       "      <td>2018</td>\n",
       "      <td>West</td>\n",
       "    </tr>\n",
       "    <tr>\n",
       "      <th>9109</th>\n",
       "      <td>2018-02-04</td>\n",
       "      <td>0.83</td>\n",
       "      <td>10565056.41</td>\n",
       "      <td>3121272.58</td>\n",
       "      <td>3294335.87</td>\n",
       "      <td>142553.21</td>\n",
       "      <td>4006894.75</td>\n",
       "      <td>1151399.33</td>\n",
       "      <td>2838239.39</td>\n",
       "      <td>17256.03</td>\n",
       "      <td>conventional</td>\n",
       "      <td>2018</td>\n",
       "      <td>West</td>\n",
       "    </tr>\n",
       "  </tbody>\n",
       "</table>\n",
       "<p>187 rows × 13 columns</p>\n",
       "</div>"
      ],
      "text/plain": [
       "            date  average price  total volume  small/medium        large  \\\n",
       "2652  2015-12-27           0.95   27297983.67    9626901.09  10197890.05   \n",
       "2653  2015-12-20           0.98   25083647.17    8710021.76   9329861.85   \n",
       "2654  2015-12-13           0.93   28041335.38    9855053.66  10805838.91   \n",
       "2655  2015-12-06           0.89   28800396.57    9405464.36  12160838.62   \n",
       "2656  2015-11-29           0.99   22617999.38    8094803.56   9003178.41   \n",
       "...          ...            ...           ...           ...          ...   \n",
       "9100  2018-01-14           1.20   37299945.22   12600918.24  11866197.84   \n",
       "9101  2018-01-07           1.13   36703156.72   13730992.75  10781339.21   \n",
       "9103  2018-03-18           0.99    7254940.65    2099082.66   1707752.84   \n",
       "9106  2018-02-25           0.97    7408451.31    2154414.96   1740237.35   \n",
       "9109  2018-02-04           0.83   10565056.41    3121272.58   3294335.87   \n",
       "\n",
       "      extra large   total bags  small bags  large bags  xlarge bags  \\\n",
       "2652   1184340.09   6288852.44  4850404.09  1252626.31    185822.04   \n",
       "2653   1201020.01   5842743.55  4618389.66  1025048.77    199305.12   \n",
       "2654   1016163.17   6364279.64  4964462.13  1371440.28     28377.23   \n",
       "2655    931830.63   6302262.96  5005077.36  1233956.21     63229.39   \n",
       "2656    731008.41   4789009.00  3901953.04   856560.34     30495.62   \n",
       "...           ...          ...         ...         ...          ...   \n",
       "9100    652808.40  12180020.74  8128241.88  3917569.95    134208.91   \n",
       "9101    677714.86  11513109.90  8231766.23  3130919.10    150424.57   \n",
       "9103    115997.93   3332107.22  1333247.05  1982086.02     16774.15   \n",
       "9106    117766.27   3396032.73  1164132.42  2205336.14     26564.17   \n",
       "9109    142553.21   4006894.75  1151399.33  2838239.39     17256.03   \n",
       "\n",
       "              type  year   region  \n",
       "2652  conventional  2015  TotalUS  \n",
       "2653  conventional  2015  TotalUS  \n",
       "2654  conventional  2015  TotalUS  \n",
       "2655  conventional  2015  TotalUS  \n",
       "2656  conventional  2015  TotalUS  \n",
       "...            ...   ...      ...  \n",
       "9100  conventional  2018  TotalUS  \n",
       "9101  conventional  2018  TotalUS  \n",
       "9103  conventional  2018     West  \n",
       "9106  conventional  2018     West  \n",
       "9109  conventional  2018     West  \n",
       "\n",
       "[187 rows x 13 columns]"
      ]
     },
     "execution_count": 28,
     "metadata": {},
     "output_type": "execute_result"
    }
   ],
   "source": [
    "# find outliers\n",
    "\n",
    "outlier_bags = data.loc[(data['total bags'] > upper_limit) | (data['total bags'] < lower_limit)]\n",
    "outlier_bags"
   ]
  },
  {
   "cell_type": "code",
   "execution_count": 29,
   "id": "93e45c7a-16ac-4884-b045-9ee31a6f7095",
   "metadata": {},
   "outputs": [
    {
     "data": {
      "text/plain": [
       "type\n",
       "conventional    187\n",
       "Name: count, dtype: int64"
      ]
     },
     "execution_count": 29,
     "metadata": {},
     "output_type": "execute_result"
    }
   ],
   "source": [
    "outlier_bags['type'].value_counts()"
   ]
  },
  {
   "cell_type": "code",
   "execution_count": 30,
   "id": "5d207ebb-f1d4-4080-af3a-d9fc48d09e4b",
   "metadata": {},
   "outputs": [
    {
     "data": {
      "text/plain": [
       "region\n",
       "TotalUS         169\n",
       "West             14\n",
       "SouthCentral      3\n",
       "California        1\n",
       "Name: count, dtype: int64"
      ]
     },
     "execution_count": 30,
     "metadata": {},
     "output_type": "execute_result"
    }
   ],
   "source": [
    "outlier_bags['region'].value_counts()"
   ]
  },
  {
   "cell_type": "markdown",
   "id": "45aee030-46a5-4aaf-972b-52bb8d19c2bc",
   "metadata": {},
   "source": [
    "All outliers in total bags belong to conventional avocados and most of them are from region TotalUS"
   ]
  },
  {
   "cell_type": "code",
   "execution_count": 31,
   "id": "282ab993-1c95-42cb-9996-b9af6fa778b6",
   "metadata": {},
   "outputs": [
    {
     "data": {
      "text/plain": [
       "1.024713682941531"
      ]
     },
     "execution_count": 31,
     "metadata": {},
     "output_type": "execute_result"
    }
   ],
   "source": [
    "# size of outlier_bags\n",
    "\n",
    "(outlier_bags.size/data.size)*100"
   ]
  },
  {
   "cell_type": "code",
   "execution_count": 32,
   "id": "26c88a6d-9ccf-457e-ba94-7282e402fed5",
   "metadata": {},
   "outputs": [
    {
     "data": {
      "text/plain": [
       "2.6795988821305277"
      ]
     },
     "execution_count": 32,
     "metadata": {},
     "output_type": "execute_result"
    }
   ],
   "source": [
    "# size of data containing total outliers\n",
    "\n",
    "((outlier_price.size +outlier_volume.size + outlier_bags.size)/data.size)*100"
   ]
  },
  {
   "cell_type": "markdown",
   "id": "392cea72-0aea-4736-b22b-d1e3132a73ba",
   "metadata": {},
   "source": [
    "Outliers make up 2.67% of the total dataset, which has 18,249 rows and 13 columns. Since this is a small percentage, removing these outliers is acceptable. Eliminating them won't significantly affect the analysis of such a large dataset, and getting rid of extreme outliers will prevent them from distorting the results."
   ]
  },
  {
   "cell_type": "code",
   "execution_count": 33,
   "id": "d4c097e2-56d7-4b04-a6bf-ccc3a8ae6215",
   "metadata": {},
   "outputs": [],
   "source": [
    "# removing outliers\n",
    "\n",
    "price =(data['average price'] > 2.61) | (data['average price'] <0.197 )\n",
    "volume= (data['total volume'] > 11211280.07) | (data['total volume'] < -9509992.05)\n",
    "bags = (data['total bags'] > 3198366.39) | (data['total bags'] < -2719087.99)\n",
    "\n",
    "condition = price | volume |bags\n",
    "\n",
    "data = data[~condition]"
   ]
  },
  {
   "cell_type": "code",
   "execution_count": 34,
   "id": "b564d242-4c16-4020-8ee5-7171fa557286",
   "metadata": {},
   "outputs": [
    {
     "data": {
      "text/plain": [
       "(17931, 13)"
      ]
     },
     "execution_count": 34,
     "metadata": {},
     "output_type": "execute_result"
    }
   ],
   "source": [
    "data.shape"
   ]
  },
  {
   "cell_type": "markdown",
   "id": "2946895f-3a3e-49ad-962d-3aa5ea7ebbe0",
   "metadata": {},
   "source": [
    "#### Check catagorical columns"
   ]
  },
  {
   "cell_type": "code",
   "execution_count": 35,
   "id": "9fe8e0eb-0fc2-450e-9900-58ddb0c5f9f2",
   "metadata": {},
   "outputs": [
    {
     "data": {
      "text/plain": [
       "type\n",
       "organic         8992\n",
       "conventional    8939\n",
       "Name: count, dtype: int64"
      ]
     },
     "execution_count": 35,
     "metadata": {},
     "output_type": "execute_result"
    }
   ],
   "source": [
    "data['type'].value_counts()"
   ]
  },
  {
   "cell_type": "code",
   "execution_count": 36,
   "id": "3a8fa9f9-a553-485b-bbc5-b1a7c52acedf",
   "metadata": {},
   "outputs": [
    {
     "data": {
      "text/plain": [
       "region\n",
       "Albany                 338\n",
       "Philadelphia           338\n",
       "LosAngeles             338\n",
       "Louisville             338\n",
       "Midsouth               338\n",
       "Nashville              338\n",
       "Northeast              338\n",
       "NorthernNewEngland     338\n",
       "Pittsburgh             338\n",
       "Houston                338\n",
       "Plains                 338\n",
       "RichmondNorfolk        338\n",
       "Roanoke                338\n",
       "SouthCarolina          338\n",
       "Southeast              338\n",
       "Syracuse               338\n",
       "Indianapolis           338\n",
       "NewOrleansMobile       338\n",
       "CincinnatiDayton       338\n",
       "Detroit                338\n",
       "HarrisburgScranton     338\n",
       "Chicago                338\n",
       "Columbus               338\n",
       "DallasFtWorth          338\n",
       "Denver                 338\n",
       "BuffaloRochester       338\n",
       "BaltimoreWashington    338\n",
       "GreatLakes             338\n",
       "Boston                 338\n",
       "Atlanta                337\n",
       "California             337\n",
       "Jacksonville           337\n",
       "NewYork                337\n",
       "GrandRapids            336\n",
       "Tampa                  336\n",
       "SanDiego               336\n",
       "PhoenixTucson          336\n",
       "Sacramento             336\n",
       "SouthCentral           335\n",
       "Orlando                335\n",
       "MiamiFtLauderdale      335\n",
       "StLouis                333\n",
       "LasVegas               333\n",
       "WestTexNewMexico       332\n",
       "Charlotte              332\n",
       "HartfordSpringfield    331\n",
       "Portland               330\n",
       "Boise                  329\n",
       "Spokane                328\n",
       "RaleighGreensboro      328\n",
       "Seattle                326\n",
       "West                   324\n",
       "SanFrancisco           301\n",
       "TotalUS                169\n",
       "Name: count, dtype: int64"
      ]
     },
     "execution_count": 36,
     "metadata": {},
     "output_type": "execute_result"
    }
   ],
   "source": [
    "data['region'].value_counts()"
   ]
  },
  {
   "cell_type": "markdown",
   "id": "8f631282-8154-4910-a3c7-248bfafb16ef",
   "metadata": {},
   "source": [
    "There are no errors, spelling mistakes, duplicates in column type and region"
   ]
  },
  {
   "cell_type": "markdown",
   "id": "5b13144b-b1db-49df-80c2-7f94743ab7a8",
   "metadata": {},
   "source": [
    "#### Date and year"
   ]
  },
  {
   "cell_type": "code",
   "execution_count": 37,
   "id": "76d6f6a0-6c70-4fa1-8de8-23c4bbaf42da",
   "metadata": {},
   "outputs": [
    {
     "data": {
      "text/plain": [
       "year\n",
       "2017    5568\n",
       "2015    5551\n",
       "2016    5534\n",
       "2018    1278\n",
       "Name: count, dtype: int64"
      ]
     },
     "execution_count": 37,
     "metadata": {},
     "output_type": "execute_result"
    }
   ],
   "source": [
    "data['year'].value_counts()"
   ]
  },
  {
   "cell_type": "code",
   "execution_count": 38,
   "id": "50f08b5f-504f-4e16-8061-be3a87361107",
   "metadata": {},
   "outputs": [
    {
     "data": {
      "text/plain": [
       "dtype('O')"
      ]
     },
     "execution_count": 38,
     "metadata": {},
     "output_type": "execute_result"
    }
   ],
   "source": [
    "data['date'].dtypes"
   ]
  },
  {
   "cell_type": "code",
   "execution_count": 39,
   "id": "b975268c-4f68-468a-8b35-8ddde0baeef4",
   "metadata": {},
   "outputs": [],
   "source": [
    "# change type of column date\n",
    "\n",
    "data['date'] = pd.to_datetime(data['date'])"
   ]
  },
  {
   "cell_type": "code",
   "execution_count": 40,
   "id": "24e0f6b6-87a4-49c2-9664-06e015deec79",
   "metadata": {},
   "outputs": [
    {
     "data": {
      "text/plain": [
       "date             datetime64[ns]\n",
       "average price           float64\n",
       "total volume            float64\n",
       "small/medium            float64\n",
       "large                   float64\n",
       "extra large             float64\n",
       "total bags              float64\n",
       "small bags              float64\n",
       "large bags              float64\n",
       "xlarge bags             float64\n",
       "type                     object\n",
       "year                      int64\n",
       "region                   object\n",
       "dtype: object"
      ]
     },
     "execution_count": 40,
     "metadata": {},
     "output_type": "execute_result"
    }
   ],
   "source": [
    "data.dtypes"
   ]
  },
  {
   "cell_type": "markdown",
   "id": "b7328c47-d197-4d97-8355-dbfd12c6b0dc",
   "metadata": {},
   "source": [
    "#### Add column"
   ]
  },
  {
   "cell_type": "code",
   "execution_count": 41,
   "id": "d28f8b9e-60a3-4801-a33c-73bf4abed40f",
   "metadata": {},
   "outputs": [
    {
     "data": {
      "text/html": [
       "<div>\n",
       "<style scoped>\n",
       "    .dataframe tbody tr th:only-of-type {\n",
       "        vertical-align: middle;\n",
       "    }\n",
       "\n",
       "    .dataframe tbody tr th {\n",
       "        vertical-align: top;\n",
       "    }\n",
       "\n",
       "    .dataframe thead th {\n",
       "        text-align: right;\n",
       "    }\n",
       "</style>\n",
       "<table border=\"1\" class=\"dataframe\">\n",
       "  <thead>\n",
       "    <tr style=\"text-align: right;\">\n",
       "      <th></th>\n",
       "      <th>date</th>\n",
       "      <th>average price</th>\n",
       "      <th>total volume</th>\n",
       "      <th>small/medium</th>\n",
       "      <th>large</th>\n",
       "      <th>extra large</th>\n",
       "      <th>total bags</th>\n",
       "      <th>small bags</th>\n",
       "      <th>large bags</th>\n",
       "      <th>xlarge bags</th>\n",
       "      <th>type</th>\n",
       "      <th>year</th>\n",
       "      <th>region</th>\n",
       "      <th>total price</th>\n",
       "    </tr>\n",
       "  </thead>\n",
       "  <tbody>\n",
       "    <tr>\n",
       "      <th>0</th>\n",
       "      <td>2015-12-27</td>\n",
       "      <td>1.33</td>\n",
       "      <td>64236.62</td>\n",
       "      <td>1036.74</td>\n",
       "      <td>54454.85</td>\n",
       "      <td>48.16</td>\n",
       "      <td>8696.87</td>\n",
       "      <td>8603.62</td>\n",
       "      <td>93.25</td>\n",
       "      <td>0.0</td>\n",
       "      <td>conventional</td>\n",
       "      <td>2015</td>\n",
       "      <td>Albany</td>\n",
       "      <td>85434.7046</td>\n",
       "    </tr>\n",
       "    <tr>\n",
       "      <th>1</th>\n",
       "      <td>2015-12-20</td>\n",
       "      <td>1.35</td>\n",
       "      <td>54876.98</td>\n",
       "      <td>674.28</td>\n",
       "      <td>44638.81</td>\n",
       "      <td>58.33</td>\n",
       "      <td>9505.56</td>\n",
       "      <td>9408.07</td>\n",
       "      <td>97.49</td>\n",
       "      <td>0.0</td>\n",
       "      <td>conventional</td>\n",
       "      <td>2015</td>\n",
       "      <td>Albany</td>\n",
       "      <td>74083.9230</td>\n",
       "    </tr>\n",
       "    <tr>\n",
       "      <th>2</th>\n",
       "      <td>2015-12-13</td>\n",
       "      <td>0.93</td>\n",
       "      <td>118220.22</td>\n",
       "      <td>794.70</td>\n",
       "      <td>109149.67</td>\n",
       "      <td>130.50</td>\n",
       "      <td>8145.35</td>\n",
       "      <td>8042.21</td>\n",
       "      <td>103.14</td>\n",
       "      <td>0.0</td>\n",
       "      <td>conventional</td>\n",
       "      <td>2015</td>\n",
       "      <td>Albany</td>\n",
       "      <td>109944.8046</td>\n",
       "    </tr>\n",
       "    <tr>\n",
       "      <th>3</th>\n",
       "      <td>2015-12-06</td>\n",
       "      <td>1.08</td>\n",
       "      <td>78992.15</td>\n",
       "      <td>1132.00</td>\n",
       "      <td>71976.41</td>\n",
       "      <td>72.58</td>\n",
       "      <td>5811.16</td>\n",
       "      <td>5677.40</td>\n",
       "      <td>133.76</td>\n",
       "      <td>0.0</td>\n",
       "      <td>conventional</td>\n",
       "      <td>2015</td>\n",
       "      <td>Albany</td>\n",
       "      <td>85311.5220</td>\n",
       "    </tr>\n",
       "    <tr>\n",
       "      <th>4</th>\n",
       "      <td>2015-11-29</td>\n",
       "      <td>1.28</td>\n",
       "      <td>51039.60</td>\n",
       "      <td>941.48</td>\n",
       "      <td>43838.39</td>\n",
       "      <td>75.78</td>\n",
       "      <td>6183.95</td>\n",
       "      <td>5986.26</td>\n",
       "      <td>197.69</td>\n",
       "      <td>0.0</td>\n",
       "      <td>conventional</td>\n",
       "      <td>2015</td>\n",
       "      <td>Albany</td>\n",
       "      <td>65330.6880</td>\n",
       "    </tr>\n",
       "  </tbody>\n",
       "</table>\n",
       "</div>"
      ],
      "text/plain": [
       "        date  average price  total volume  small/medium      large  \\\n",
       "0 2015-12-27           1.33      64236.62       1036.74   54454.85   \n",
       "1 2015-12-20           1.35      54876.98        674.28   44638.81   \n",
       "2 2015-12-13           0.93     118220.22        794.70  109149.67   \n",
       "3 2015-12-06           1.08      78992.15       1132.00   71976.41   \n",
       "4 2015-11-29           1.28      51039.60        941.48   43838.39   \n",
       "\n",
       "   extra large  total bags  small bags  large bags  xlarge bags          type  \\\n",
       "0        48.16     8696.87     8603.62       93.25          0.0  conventional   \n",
       "1        58.33     9505.56     9408.07       97.49          0.0  conventional   \n",
       "2       130.50     8145.35     8042.21      103.14          0.0  conventional   \n",
       "3        72.58     5811.16     5677.40      133.76          0.0  conventional   \n",
       "4        75.78     6183.95     5986.26      197.69          0.0  conventional   \n",
       "\n",
       "   year  region  total price  \n",
       "0  2015  Albany   85434.7046  \n",
       "1  2015  Albany   74083.9230  \n",
       "2  2015  Albany  109944.8046  \n",
       "3  2015  Albany   85311.5220  \n",
       "4  2015  Albany   65330.6880  "
      ]
     },
     "execution_count": 41,
     "metadata": {},
     "output_type": "execute_result"
    }
   ],
   "source": [
    "# adding column 'total price'\n",
    "data['total price'] = data['average price'] * data['total volume']\n",
    "\n",
    "data.head()"
   ]
  },
  {
   "cell_type": "markdown",
   "id": "568ff833-3ba4-4843-83d1-59a6a7d427e0",
   "metadata": {},
   "source": [
    "data looks clean and prepared for further analysis"
   ]
  },
  {
   "cell_type": "code",
   "execution_count": 43,
   "id": "6c1d626c-1965-4911-9755-78951ce8b877",
   "metadata": {},
   "outputs": [],
   "source": [
    "data.to_csv(\"C:/Users/nisha/Desktop/Data Science/avocado_cleaned.csv\", index= False)"
   ]
  },
  {
   "cell_type": "code",
   "execution_count": null,
   "id": "aa8c0efb-018b-41fa-987e-927bf1646d7b",
   "metadata": {},
   "outputs": [],
   "source": []
  }
 ],
 "metadata": {
  "kernelspec": {
   "display_name": "Python 3 (ipykernel)",
   "language": "python",
   "name": "python3"
  },
  "language_info": {
   "codemirror_mode": {
    "name": "ipython",
    "version": 3
   },
   "file_extension": ".py",
   "mimetype": "text/x-python",
   "name": "python",
   "nbconvert_exporter": "python",
   "pygments_lexer": "ipython3",
   "version": "3.11.7"
  }
 },
 "nbformat": 4,
 "nbformat_minor": 5
}
